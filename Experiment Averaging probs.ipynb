{
 "cells": [
  {
   "cell_type": "code",
   "execution_count": 173,
   "metadata": {
    "colab": {
     "base_uri": "https://localhost:8080/",
     "height": 51
    },
    "colab_type": "code",
    "executionInfo": {
     "elapsed": 442,
     "status": "ok",
     "timestamp": 1580692392814,
     "user": {
      "displayName": "Federico Francone",
      "photoUrl": "https://lh3.googleusercontent.com/a-/AAuE7mCvT-5R0e3T46w8v1AsqxSyhT-fEY26ltek6aRh=s64",
      "userId": "16122115063472740860"
     },
     "user_tz": -60
    },
    "id": "FiH8ymZml9Pt",
    "outputId": "f009517c-ca09-4159-efbc-61d4483065b5"
   },
   "outputs": [
    {
     "data": {
      "text/plain": [
       "\"from google.colab import drive\\ndrive.mount('/content/drive')\\n%cd /content/drive/My\\\\ Drive/Colab\\\\ Notebooks  \""
      ]
     },
     "execution_count": 173,
     "metadata": {},
     "output_type": "execute_result"
    }
   ],
   "source": [
    "\"\"\"from google.colab import drive\n",
    "drive.mount('/content/drive')\n",
    "%cd /content/drive/My\\ Drive/Colab\\ Notebooks  \"\"\""
   ]
  },
  {
   "cell_type": "code",
   "execution_count": 174,
   "metadata": {
    "colab": {
     "base_uri": "https://localhost:8080/",
     "height": 34
    },
    "colab_type": "code",
    "executionInfo": {
     "elapsed": 422,
     "status": "ok",
     "timestamp": 1580692621368,
     "user": {
      "displayName": "Federico Francone",
      "photoUrl": "https://lh3.googleusercontent.com/a-/AAuE7mCvT-5R0e3T46w8v1AsqxSyhT-fEY26ltek6aRh=s64",
      "userId": "16122115063472740860"
     },
     "user_tz": -60
    },
    "hide_input": true,
    "id": "x5BqtB8le7XF",
    "outputId": "d59060ba-4774-4482-fe3b-830bf63e17a6"
   },
   "outputs": [
    {
     "data": {
      "text/plain": [
       "'/Users/federicofrancone/Desktop/final_insurance_data/No_validation/Experiments'"
      ]
     },
     "execution_count": 174,
     "metadata": {},
     "output_type": "execute_result"
    }
   ],
   "source": [
    "import pandas as pd\n",
    "import numpy as np\n",
    "import matplotlib.pyplot as plt\n",
    "import seaborn as sns\n",
    "import os\n",
    "import sys\n",
    "import warnings\n",
    "warnings.filterwarnings(\"ignore\")\n",
    "\n",
    "\n",
    "import pandas as pd\n",
    "import numpy as np\n",
    "from sklearn  import preprocessing, decomposition, base\n",
    "import matplotlib.pyplot as plt\n",
    "from matplotlib.pyplot import pie, axis, show\n",
    "from sklearn.linear_model import LogisticRegression, LogisticRegressionCV, Lasso\n",
    "import seaborn as sns\n",
    "from sklearn.model_selection import train_test_split, cross_val_score, GridSearchCV, validation_curve, KFold\n",
    "from sklearn.model_selection import RandomizedSearchCV, cross_validate, ParameterGrid\n",
    "from sklearn.ensemble import RandomForestClassifier, GradientBoostingClassifier\n",
    "from sklearn.feature_selection import SelectFromModel\n",
    "from sklearn.preprocessing import StandardScaler, MinMaxScaler, LabelEncoder, RobustScaler\n",
    "from sklearn.metrics import classification_report, confusion_matrix, accuracy_score, roc_auc_score, make_scorer, roc_curve, f1_score, precision_score, recall_score\n",
    "from sklearn.pipeline import Pipeline\n",
    "from sklearn.decomposition import PCA\n",
    "from sklearn.neighbors import KNeighborsClassifier\n",
    "from sklearn.svm import SVC\n",
    "from datetime import datetime\n",
    "\n",
    "from IPython.display import display\n",
    "pd.options.display.max_columns = 25\n",
    "\n",
    "import xgboost as xgb\n",
    "from xgboost import XGBClassifier, XGBRFClassifier\n",
    "from xgboost import plot_importance\n",
    "import time\n",
    "\n",
    "os.getcwd()"
   ]
  },
  {
   "cell_type": "code",
   "execution_count": 209,
   "metadata": {
    "colab": {},
    "colab_type": "code",
    "hide_input": true,
    "id": "xNnVWUKve7XP"
   },
   "outputs": [],
   "source": [
    "colors = ['xkcd:pale orange', 'xkcd:sea blue', 'xkcd:pale red', 'xkcd:sage green', 'xkcd:terra cotta', 'xkcd:dull purple', 'xkcd:teal', 'xkcd:goldenrod', 'xkcd:cadet blue', \n",
    "          'xkcd:scarlet']\n",
    "\n",
    "\n",
    "def title_ticks_ecc(title, xlabel, ylabel, new_fig= True , figsize= (10,6)):\n",
    "    if new_fig== True:\n",
    "        plt.figure(figsize=figsize)\n",
    "        \n",
    "    plt.title(title, color='red', fontsize= 18, pad= 13)\n",
    "    plt.xlabel(xlabel, color='red', fontsize= 14)\n",
    "    plt.ylabel(ylabel, color='red', fontsize= 14)\n",
    "    plt.xticks(fontsize=12, color='blue')\n",
    "    plt.yticks(fontsize=12, color='blue')"
   ]
  },
  {
   "cell_type": "code",
   "execution_count": 175,
   "metadata": {},
   "outputs": [
    {
     "data": {
      "text/plain": [
       "0    88.15\n",
       "1    11.85\n",
       "Name: target, dtype: float64"
      ]
     },
     "execution_count": 175,
     "metadata": {},
     "output_type": "execute_result"
    }
   ],
   "source": [
    "binned_train = pd.read_csv('../../df_train_high_g_pre_bin2.csv')  #1166\n",
    "binned_test = pd.read_csv('../../df_test_high_g_pre_bin2.csv')\n",
    "\n",
    "target= ytrain=  binned_train['target']\n",
    "target_test= ytest= binned_test['target']\n",
    "\n",
    "target_distribution= round(target.value_counts()*100/len(binned_train),2)\n",
    "target_distribution"
   ]
  },
  {
   "cell_type": "code",
   "execution_count": 176,
   "metadata": {},
   "outputs": [
    {
     "data": {
      "text/plain": [
       "((96399,), (41312,))"
      ]
     },
     "execution_count": 176,
     "metadata": {},
     "output_type": "execute_result"
    }
   ],
   "source": [
    "target.shape, target_test.shape"
   ]
  },
  {
   "cell_type": "code",
   "execution_count": 279,
   "metadata": {
    "colab": {
     "base_uri": "https://localhost:8080/",
     "height": 34
    },
    "colab_type": "code",
    "executionInfo": {
     "elapsed": 447,
     "status": "ok",
     "timestamp": 1580692649743,
     "user": {
      "displayName": "Federico Francone",
      "photoUrl": "https://lh3.googleusercontent.com/a-/AAuE7mCvT-5R0e3T46w8v1AsqxSyhT-fEY26ltek6aRh=s64",
      "userId": "16122115063472740860"
     },
     "user_tz": -60
    },
    "hide_input": false,
    "id": "b0j8y0y1n4Vz",
    "outputId": "5ecdfe7e-5908-4323-9e82-4bbf8b184c91",
    "run_control": {
     "marked": false
    }
   },
   "outputs": [],
   "source": [
    "pred_gbm_train= pd.read_csv('../Predictions/Pred_gbm_train.csv')['0']\n",
    "pred_gbm_test= pd.read_csv('../Predictions/Pred_gbm_test.csv')['0']\n",
    "\n",
    "pred_xgb_train= pd.read_csv('../Predictions/Pred_xgb_train.csv')['0']\n",
    "pred_xgb_test= pd.read_csv('../Predictions/Pred_xgb_test.csv')['0']\n",
    "\n",
    "pred_log_train= pd.read_csv('../Predictions/Pred_log_train.csv')['0']\n",
    "pred_log_test= pd.read_csv('../Predictions/Pred_log_test.csv')['0']\n",
    "\n",
    "pred_cat_train= pd.read_csv('../Predictions/Pred_catboost_train.csv')['0']\n",
    "pred_cat_test= pd.read_csv('../Predictions/Pred_catboost_test.csv')['0']"
   ]
  },
  {
   "cell_type": "markdown",
   "metadata": {},
   "source": [
    "### Benchmark AUC scores"
   ]
  },
  {
   "cell_type": "code",
   "execution_count": 280,
   "metadata": {},
   "outputs": [
    {
     "name": "stdout",
     "output_type": "stream",
     "text": [
      "AUC scores GBM: 0.7409 0.723\n",
      "AUC scores Catboost: 0.7335 0.7242\n"
     ]
    }
   ],
   "source": [
    "####### GBM ##########\n",
    "auc_tr_gbm= round(roc_auc_score(ytrain, pred_gbm_train), 4)\n",
    "auc_test_gbm= round(roc_auc_score(ytest, pred_gbm_test), 4)\n",
    "\n",
    "auc_tr_cat= round(roc_auc_score(ytrain, pred_cat_train), 4)\n",
    "auc_test_cat= round(roc_auc_score(ytest, pred_cat_test), 4)\n",
    "\n",
    "print('AUC scores GBM:', auc_tr_gbm, auc_test_gbm)\n",
    "print('AUC scores Catboost:', auc_tr_cat, auc_test_cat)"
   ]
  },
  {
   "cell_type": "code",
   "execution_count": 188,
   "metadata": {
    "collapsed": true
   },
   "outputs": [
    {
     "data": {
      "text/plain": [
       "count    96399.000000\n",
       "mean         0.118516\n",
       "std          0.091610\n",
       "min          0.011415\n",
       "0%           0.011415\n",
       "10%          0.039780\n",
       "20%          0.052502\n",
       "30%          0.063723\n",
       "40%          0.074611\n",
       "50%          0.088657\n",
       "60%          0.108253\n",
       "70%          0.129061\n",
       "80%          0.159093\n",
       "90%          0.269911\n",
       "max          0.609747\n",
       "Name: 0, dtype: float64"
      ]
     },
     "execution_count": 188,
     "metadata": {},
     "output_type": "execute_result"
    }
   ],
   "source": [
    "pred_gbm_train.describe(percentiles= np.arange(0, 0.91, 0.1))"
   ]
  },
  {
   "cell_type": "code",
   "execution_count": 189,
   "metadata": {},
   "outputs": [
    {
     "data": {
      "text/plain": [
       "<matplotlib.axes._subplots.AxesSubplot at 0x168eac350>"
      ]
     },
     "execution_count": 189,
     "metadata": {},
     "output_type": "execute_result"
    },
    {
     "data": {
      "image/png": "[encoded data removed]",
      "text/plain": [
       "<Figure size 720x432 with 1 Axes>"
      ]
     },
     "metadata": {
      "needs_background": "light"
     },
     "output_type": "display_data"
    }
   ],
   "source": [
    "title_ticks_ecc('Distribution of probability scores GBM', 'Probability', '')\n",
    "sns.distplot(pred_gbm_train)"
   ]
  },
  {
   "cell_type": "code",
   "execution_count": 201,
   "metadata": {},
   "outputs": [
    {
     "data": {
      "text/html": [
       "<div>\n",
       "<style scoped>\n",
       "    .dataframe tbody tr th:only-of-type {\n",
       "        vertical-align: middle;\n",
       "    }\n",
       "\n",
       "    .dataframe tbody tr th {\n",
       "        vertical-align: top;\n",
       "    }\n",
       "\n",
       "    .dataframe thead th {\n",
       "        text-align: right;\n",
       "    }\n",
       "</style>\n",
       "<table border=\"1\" class=\"dataframe\">\n",
       "  <thead>\n",
       "    <tr style=\"text-align: right;\">\n",
       "      <th></th>\n",
       "      <th>proba</th>\n",
       "      <th>label</th>\n",
       "    </tr>\n",
       "  </thead>\n",
       "  <tbody>\n",
       "    <tr>\n",
       "      <th>0</th>\n",
       "      <td>0.211812</td>\n",
       "      <td>0</td>\n",
       "    </tr>\n",
       "    <tr>\n",
       "      <th>1</th>\n",
       "      <td>0.269010</td>\n",
       "      <td>0</td>\n",
       "    </tr>\n",
       "    <tr>\n",
       "      <th>2</th>\n",
       "      <td>0.079756</td>\n",
       "      <td>0</td>\n",
       "    </tr>\n",
       "    <tr>\n",
       "      <th>3</th>\n",
       "      <td>0.037739</td>\n",
       "      <td>0</td>\n",
       "    </tr>\n",
       "    <tr>\n",
       "      <th>4</th>\n",
       "      <td>0.049673</td>\n",
       "      <td>0</td>\n",
       "    </tr>\n",
       "  </tbody>\n",
       "</table>\n",
       "</div>"
      ],
      "text/plain": [
       "      proba  label\n",
       "0  0.211812      0\n",
       "1  0.269010      0\n",
       "2  0.079756      0\n",
       "3  0.037739      0\n",
       "4  0.049673      0"
      ]
     },
     "execution_count": 201,
     "metadata": {},
     "output_type": "execute_result"
    }
   ],
   "source": [
    "df_probs = pd.DataFrame(pd.Series(pred_gbm_train.values))\n",
    "df_probs['label'] = target.values\n",
    "df_probs.columns= ['proba', 'label' ]\n",
    "\n",
    "df_probs.head()"
   ]
  },
  {
   "cell_type": "markdown",
   "metadata": {},
   "source": [
    "### Optimal Threshold"
   ]
  },
  {
   "cell_type": "code",
   "execution_count": 213,
   "metadata": {},
   "outputs": [
    {
     "name": "stdout",
     "output_type": "stream",
     "text": [
      "Optimal threshold: 0.114\n"
     ]
    }
   ],
   "source": [
    "fpr, tpr, thresholds = roc_curve(ytrain, df_probs['proba'], pos_label=1)\n",
    "optimal_idx = np.argmax(tpr-fpr)\n",
    "optimal_threshold = thresholds[optimal_idx]\n",
    "pred_proba_df = pd.DataFrame(df_probs['proba'])\n",
    "p= optimal_preds = pred_proba_df.applymap(lambda x: 1 if x>optimal_threshold else 0)\n",
    "print('Optimal threshold: {0:3.3f}'.format(optimal_threshold))"
   ]
  },
  {
   "cell_type": "code",
   "execution_count": 172,
   "metadata": {
    "collapsed": true,
    "hide_input": true
   },
   "outputs": [
    {
     "name": "stdout",
     "output_type": "stream",
     "text": [
      "              precision    recall  f1-score   support\n",
      "\n",
      "           0       0.94      0.68      0.79     84975\n",
      "           1       0.22      0.66      0.33     11424\n",
      "\n",
      "    accuracy                           0.68     96399\n",
      "   macro avg       0.58      0.67      0.56     96399\n",
      "weighted avg       0.85      0.68      0.74     96399\n",
      "\n"
     ]
    },
    {
     "data": {
      "text/plain": [
       "array([[57958, 27017],\n",
       "       [ 3828,  7596]])"
      ]
     },
     "execution_count": 172,
     "metadata": {},
     "output_type": "execute_result"
    }
   ],
   "source": [
    "print(classification_report(ytrain, p))\n",
    "\n",
    "confusion_matrix(ytrain, p)"
   ]
  },
  {
   "cell_type": "markdown",
   "metadata": {
    "heading_collapsed": true
   },
   "source": [
    "### Analysis of Youden Statistic"
   ]
  },
  {
   "cell_type": "code",
   "execution_count": 99,
   "metadata": {
    "hidden": true
   },
   "outputs": [
    {
     "data": {
      "text/plain": [
       "count    16579.000000\n",
       "mean         0.252983\n",
       "std          0.092757\n",
       "min         -0.000012\n",
       "25%          0.193674\n",
       "50%          0.290177\n",
       "75%          0.331344\n",
       "max          0.347063\n",
       "dtype: float64"
      ]
     },
     "execution_count": 99,
     "metadata": {},
     "output_type": "execute_result"
    }
   ],
   "source": [
    "youden_stat= pd.Series(tpr - fpr, index= thresholds)\n",
    "youden_stat.describe()"
   ]
  },
  {
   "cell_type": "code",
   "execution_count": 100,
   "metadata": {
    "hidden": true
   },
   "outputs": [],
   "source": [
    "lb= youden_stat.std()"
   ]
  },
  {
   "cell_type": "code",
   "execution_count": 101,
   "metadata": {
    "hidden": true
   },
   "outputs": [
    {
     "data": {
      "text/plain": [
       "1.609747    0.000000\n",
       "0.609747   -0.000012\n",
       "0.540077    0.000338\n",
       "0.539719    0.000327\n",
       "0.523729    0.000414\n",
       "              ...   \n",
       "0.014432    0.000365\n",
       "0.014355    0.000341\n",
       "0.013114    0.000082\n",
       "0.012803    0.000059\n",
       "0.011415    0.000000\n",
       "Length: 16579, dtype: float64"
      ]
     },
     "execution_count": 101,
     "metadata": {},
     "output_type": "execute_result"
    }
   ],
   "source": [
    "youden_stat"
   ]
  },
  {
   "cell_type": "code",
   "execution_count": 127,
   "metadata": {
    "hidden": true
   },
   "outputs": [
    {
     "data": {
      "text/plain": [
       "(0, 0.6)"
      ]
     },
     "execution_count": 127,
     "metadata": {},
     "output_type": "execute_result"
    },
    {
     "data": {
      "image/png": "[encoded data removed]",
      "text/plain": [
       "<Figure size 720x432 with 1 Axes>"
      ]
     },
     "metadata": {
      "needs_background": "light"
     },
     "output_type": "display_data"
    }
   ],
   "source": [
    "title_ticks_ecc('Youden Statistic for GBM', 'Probability Thresholds', 'Youden Value')\n",
    "youden_stat.plot()\n",
    "plt.axvline(optimal_threshold , color= 'red', linestyle= '--', label= 'Optimal point')\n",
    "plt.xlim(0, 0.6)"
   ]
  },
  {
   "cell_type": "code",
   "execution_count": null,
   "metadata": {
    "hidden": true,
    "hide_input": true
   },
   "outputs": [],
   "source": [
    "prova= youden_stat[youden_stat > 0.25].index\n",
    "pred_gbm_test[ (pred_gbm_test > prova.min()) & (pred_gbm_test < prova.max())].shape"
   ]
  },
  {
   "cell_type": "code",
   "execution_count": 136,
   "metadata": {
    "hidden": true,
    "hide_input": true
   },
   "outputs": [
    {
     "data": {
      "text/plain": [
       "[<matplotlib.lines.Line2D at 0x14570a150>]"
      ]
     },
     "execution_count": 136,
     "metadata": {},
     "output_type": "execute_result"
    },
    {
     "data": {
      "image/png": "[encoded data removed]",
      "text/plain": [
       "<Figure size 720x432 with 1 Axes>"
      ]
     },
     "metadata": {
      "needs_background": "light"
     },
     "output_type": "display_data"
    }
   ],
   "source": [
    "l= []\n",
    "thresh= np.arange(0.05, 0.3, 0.025)\n",
    "\n",
    "for i in thresh:\n",
    "    index= youden_stat[youden_stat > i]\n",
    "    min_prob= index.min()\n",
    "    max_prob= index.max()\n",
    "    perc_samples= pred_gbm_train[ (pred_gbm_train > min_prob) & (pred_gbm_train < max_prob)].shape[0]*100/ len(ytrain)\n",
    "    l.append(perc_samples)\n",
    "\n",
    "title_ticks_ecc('N samples at varying Youden threshold', 'Youden Cut', 'Percentage Samples',)\n",
    "plt.plot(thresh, l)"
   ]
  },
  {
   "cell_type": "markdown",
   "metadata": {},
   "source": [
    "### Finding Interval of uncertainty based on distribution of scores in respect to labels"
   ]
  },
  {
   "cell_type": "code",
   "execution_count": 204,
   "metadata": {},
   "outputs": [
    {
     "data": {
      "text/plain": [
       "<matplotlib.legend.Legend at 0x168b0ca90>"
      ]
     },
     "execution_count": 204,
     "metadata": {},
     "output_type": "execute_result"
    },
    {
     "data": {
      "image/png": "[encoded data removed]",
      "text/plain": [
       "<Figure size 720x432 with 1 Axes>"
      ]
     },
     "metadata": {
      "needs_background": "light"
     },
     "output_type": "display_data"
    }
   ],
   "source": [
    "neg= df_probs[df_probs['label'] == 0]\n",
    "pos= df_probs[df_probs['label'] == 1]\n",
    "\n",
    "title_ticks_ecc('Probability distribution of negative and positive', '', '')\n",
    "sns.distplot(neg['proba'], color= 'orange', label= 'negative')\n",
    "sns.distplot(pos['proba'], color= 'c', label= 'positive')\n",
    "\n",
    "plt.axvline(optimal_threshold , color= 'blue', linestyle= '--', label= 'Optimal threshold')\n",
    "\n",
    "plt.axvline(0.2 , color= 'red', linestyle= '--', label= 'LB Uncertainty')\n",
    "plt.axvline(0.075 , color= 'red', linestyle= '--', label= 'UB Uncertainty')\n",
    "\n",
    "plt.xticks(np.arange(0, 0.61, 0.05))\n",
    "plt.legend(fontsize= 15)"
   ]
  },
  {
   "cell_type": "markdown",
   "metadata": {},
   "source": [
    "#### 1st visual attempt of defining uncertainty intervals"
   ]
  },
  {
   "cell_type": "code",
   "execution_count": 218,
   "metadata": {},
   "outputs": [
    {
     "data": {
      "text/plain": [
       "(22963, 21379, 44342)"
      ]
     },
     "execution_count": 218,
     "metadata": {},
     "output_type": "execute_result"
    }
   ],
   "source": [
    "lb= 0.075\n",
    "ub= 0.2\n",
    "\n",
    "left_interval = pred_gbm_train[(pred_gbm_train> lb) & (pred_gbm_train<optimal_threshold)]\n",
    "right_interval = pred_gbm_train[(pred_gbm_train>optimal_threshold) & (pred_gbm_train<ub)]\n",
    "\n",
    "left_interval.shape[0], right_interval.shape[0], left_interval.shape[0]+ right_interval.shape[0]"
   ]
  },
  {
   "cell_type": "code",
   "execution_count": 225,
   "metadata": {},
   "outputs": [
    {
     "data": {
      "text/plain": [
       "(44342, 52057, 96399)"
      ]
     },
     "execution_count": 225,
     "metadata": {},
     "output_type": "execute_result"
    }
   ],
   "source": [
    "samples_interval= set(left_interval.index).union(right_interval.index)\n",
    "len(samples_interval)\n",
    "\n",
    "inside_interval= df_probs.loc[samples_interval]\n",
    "outside_interval= df_probs[df_probs.index.isin(samples_interval)==False]\n",
    "\n",
    "inside_interval.shape[0], outside_interval.shape[0], inside_interval.shape[0]+outside_interval.shape[0],"
   ]
  },
  {
   "cell_type": "code",
   "execution_count": 228,
   "metadata": {},
   "outputs": [],
   "source": [
    "opt_preds_inside= optimal_preds.loc[samples_interval].values\n",
    "opt_preds_outside= optimal_preds.loc[outside_interval.index].values"
   ]
  },
  {
   "cell_type": "markdown",
   "metadata": {},
   "source": [
    "### Comparing performances inside the uncertain intervals with the ones outside"
   ]
  },
  {
   "cell_type": "markdown",
   "metadata": {},
   "source": [
    "###### AUC"
   ]
  },
  {
   "cell_type": "code",
   "execution_count": 238,
   "metadata": {
    "hide_input": false,
    "scrolled": true
   },
   "outputs": [
    {
     "name": "stdout",
     "output_type": "stream",
     "text": [
      "\u001b[1mAUC inside: 0.5832, AUC outside: 0.5832\u001b[0m\n",
      "\n",
      " \u001b[1mCONFUSION MATRIX \u001b[0m\n",
      " [[20780 18193]\n",
      " [ 2183  3186]] \n",
      "\n",
      "[[37178  8824]\n",
      " [ 1645  4410]] \n",
      "\n",
      "\u001b[1mF1 inside: 0.6186, F1 outside: 0.8278\u001b[0m\n",
      "\n",
      " \u001b[1mCLASSIFICATION REPORT INSIDE INTERVAL\u001b[0m\n",
      "               precision    recall  f1-score   support\n",
      "\n",
      "           0       0.90      0.53      0.67     38973\n",
      "           1       0.15      0.59      0.24      5369\n",
      "\n",
      "    accuracy                           0.54     44342\n",
      "   macro avg       0.53      0.56      0.45     44342\n",
      "weighted avg       0.81      0.54      0.62     44342\n",
      " \n",
      "\n",
      "\n",
      " \u001b[1mCLASSIFICATION REPORT OUTSIDE INTERVAL\u001b[0m\n",
      "               precision    recall  f1-score   support\n",
      "\n",
      "           0       0.96      0.81      0.88     46002\n",
      "           1       0.33      0.73      0.46      6055\n",
      "\n",
      "    accuracy                           0.80     52057\n",
      "   macro avg       0.65      0.77      0.67     52057\n",
      "weighted avg       0.89      0.80      0.83     52057\n",
      " \n",
      "\n"
     ]
    }
   ],
   "source": [
    "auc_inside= round(roc_auc_score(inside_interval['label'], inside_interval['proba'], average= 'weighted'), 4)\n",
    "auc_outside = round(roc_auc_score(outside_interval['label'], outside_interval['proba'], average= 'weighted'), 4)\n",
    "\n",
    "print('\\033[1mAUC inside: {}, AUC outside: {}\\033[0m'.format(auc_inside, auc_inside))\n",
    "      \n",
    "confusion_inside= confusion_matrix(inside_interval['label'], opt_preds_inside)\n",
    "confusion_outside= confusion_matrix(outside_interval['label'], opt_preds_outside)\n",
    "\n",
    "print('\\n \\033[1mCONFUSION MATRIX \\033[0m\\n', confusion_inside, '\\n')\n",
    "print(confusion_outside, '\\n')\n",
    "\n",
    "f1_inside= round(f1_score(inside_interval['label'], opt_preds_inside, average= 'weighted'), 4)\n",
    "f1_outside= round(f1_score(outside_interval['label'], opt_preds_outside, average= 'weighted'), 4)\n",
    "\n",
    "print('\\033[1mF1 inside: {}, F1 outside: {}\\033[0m'.format(f1_inside, f1_outside))\n",
    "\n",
    "report_inside= classification_report(inside_interval['label'], opt_preds_inside)\n",
    "report_outside= classification_report(outside_interval['label'], opt_preds_outside)\n",
    "\n",
    "print('\\n \\033[1mCLASSIFICATION REPORT INSIDE INTERVAL\\033[0m\\n', report_inside, '\\n')\n",
    "print('\\n \\033[1mCLASSIFICATION REPORT OUTSIDE INTERVAL\\033[0m\\n', report_outside, '\\n')"
   ]
  },
  {
   "cell_type": "markdown",
   "metadata": {},
   "source": [
    "### Replacing predictions inside the interval with the ones of LR AND XGB"
   ]
  },
  {
   "cell_type": "code",
   "execution_count": 248,
   "metadata": {
    "hide_input": false
   },
   "outputs": [],
   "source": [
    "proba_logi_inside= pred_log_train.loc[inside_interval.index]\n",
    "proba_xgb_inside= pred_xgb_train.loc[inside_interval.index]"
   ]
  },
  {
   "cell_type": "markdown",
   "metadata": {
    "hide_input": true
   },
   "source": [
    "##### best thresholds for LR and XGB"
   ]
  },
  {
   "cell_type": "code",
   "execution_count": 298,
   "metadata": {
    "hide_input": false
   },
   "outputs": [
    {
     "name": "stdout",
     "output_type": "stream",
     "text": [
      "Optimal threshold LR: 0.457\n",
      "Optimal threshold XGB: 0.095\n"
     ]
    }
   ],
   "source": [
    "############## For LR ###############\n",
    "\n",
    "fpr, tpr, thresholds = roc_curve(inside_interval['label'], proba_logi_inside, pos_label=1)\n",
    "optimal_idx = np.argmax(tpr-fpr)\n",
    "opt_threshold_logi_inside = thresholds[optimal_idx]\n",
    "\n",
    "p_logi_inside= opt_preds_logi_inside = proba_logi_inside.apply(lambda x: 1 if x>opt_threshold_logi_inside else 0)\n",
    "print('Optimal threshold LR: {0:3.3f}'.format(optimal_threshold_logi))\n",
    "\n",
    "############## For XGB ###############\n",
    "fpr, tpr, thresholds = roc_curve(inside_interval['label'], proba_xgb_inside, pos_label=1)\n",
    "optimal_idx = np.argmax(tpr-fpr)\n",
    "opt_threshold_xgb_inside = thresholds[optimal_idx]\n",
    "\n",
    "p_xgb_inside= opt_preds_xgb_inside = proba_xgb_inside.apply(lambda x: 1 if x>opt_threshold_xgb_inside else 0)\n",
    "print('Optimal threshold XGB: {0:3.3f}'.format(optimal_threshold_xgb))"
   ]
  },
  {
   "cell_type": "code",
   "execution_count": 269,
   "metadata": {
    "run_control": {
     "marked": false
    }
   },
   "outputs": [
    {
     "name": "stdout",
     "output_type": "stream",
     "text": [
      "\u001b[1mF1 inside interval LR: 0.5424, \n",
      "F1 inside interval XGB: 0.6123\u001b[0m\n"
     ]
    }
   ],
   "source": [
    "print('\\033[1mF1 inside interval LR: {}, \\nF1 inside interval XGB: {}\\033[0m'.format(round(f1_score(inside_interval['label'], opt_preds_logi_inside, average= 'weighted'), 4),\n",
    "                                                                 round(f1_score(inside_interval['label'], opt_preds_xgb_inside, average= 'weighted'), 4)))   "
   ]
  },
  {
   "cell_type": "code",
   "execution_count": 270,
   "metadata": {},
   "outputs": [],
   "source": [
    "### averaging the 2 models ### \n",
    "\n",
    "average_lr_xgb= pd.DataFrame(proba_logi_inside)\n",
    "average_lr_xgb['proba_xgb_inside']= proba_xgb_inside\n",
    "\n",
    "avg_probs_inside= average_lr_xgb.mean(axis=1)"
   ]
  },
  {
   "cell_type": "markdown",
   "metadata": {},
   "source": [
    "### Best Thresholds for the averaged model"
   ]
  },
  {
   "cell_type": "code",
   "execution_count": 271,
   "metadata": {},
   "outputs": [
    {
     "name": "stdout",
     "output_type": "stream",
     "text": [
      "Optimal threshold XGB: 0.283\n"
     ]
    }
   ],
   "source": [
    "############## For averaged ###############\n",
    "fpr, tpr, thresholds = roc_curve(inside_interval['label'], avg_probs_inside, pos_label=1)\n",
    "optimal_idx = np.argmax(tpr-fpr)\n",
    "opt_threshold_avg_inside = thresholds[optimal_idx]\n",
    "\n",
    "p_avg_inside= opt_preds_avg_inside = avg_probs_inside.apply(lambda x: 1 if x>opt_threshold_avg_inside else 0)\n",
    "print('Optimal threshold XGB: {0:3.3f}'.format(opt_threshold_avg_inside))"
   ]
  },
  {
   "cell_type": "code",
   "execution_count": 272,
   "metadata": {},
   "outputs": [
    {
     "name": "stdout",
     "output_type": "stream",
     "text": [
      "\u001b[1mF1 inside interval AVERAGE LR AND XGB 0.5965\u001b[0m\n"
     ]
    }
   ],
   "source": [
    "print('\\033[1mF1 inside interval AVERAGE LR AND XGB {}\\033[0m'.format(\n",
    "                            round(f1_score(inside_interval['label'], opt_preds_avg_inside, average= 'weighted'), 4))) "
   ]
  },
  {
   "cell_type": "markdown",
   "metadata": {},
   "source": [
    "### Replacing predictions inside the interval with the ones of CATBOOST"
   ]
  },
  {
   "cell_type": "code",
   "execution_count": 291,
   "metadata": {},
   "outputs": [
    {
     "data": {
      "text/plain": [
       "2        0.095687\n",
       "6        0.117788\n",
       "12       0.113719\n",
       "14       0.089488\n",
       "17       0.173135\n",
       "           ...   \n",
       "96393    0.089824\n",
       "96394    0.096251\n",
       "96395    0.128755\n",
       "96396    0.117788\n",
       "96397    0.114734\n",
       "Name: 0, Length: 44342, dtype: float64"
      ]
     },
     "execution_count": 291,
     "metadata": {},
     "output_type": "execute_result"
    }
   ],
   "source": [
    "proba_cat_inside"
   ]
  },
  {
   "cell_type": "code",
   "execution_count": 309,
   "metadata": {},
   "outputs": [
    {
     "name": "stdout",
     "output_type": "stream",
     "text": [
      "Optimal threshold Cat: 0.113\n"
     ]
    }
   ],
   "source": [
    "proba_cat_inside= pred_cat_train.loc[inside_interval.index]\n",
    "\n",
    "############## For CatBoost ###############\n",
    "\n",
    "fpr, tpr, thresholds = roc_curve(inside_interval['label'], proba_cat_inside)\n",
    "optimal_idx = np.argmax(tpr-fpr)\n",
    "opt_threshold_cat_inside = thresholds[optimal_idx]\n",
    "\n",
    "p_cat_inside= opt_preds_cat_inside = proba_cat_inside.apply(lambda x: 1 if x>opt_threshold_cat_inside else 0)\n",
    "print('Optimal threshold Cat: {0:3.3f}'.format(opt_threshold_cat_inside))"
   ]
  },
  {
   "cell_type": "code",
   "execution_count": 310,
   "metadata": {},
   "outputs": [
    {
     "name": "stdout",
     "output_type": "stream",
     "text": [
      "\u001b[1mF1 inside interval Catboost 0.6208\u001b[0m\n"
     ]
    }
   ],
   "source": [
    "print('\\033[1mF1 inside interval Catboost {}\\033[0m'.format(\n",
    "                round(f1_score(inside_interval['label'], opt_preds_cat_inside, average= 'weighted'), 4))) "
   ]
  },
  {
   "cell_type": "markdown",
   "metadata": {},
   "source": [
    "#### Try joining GBM for outside interval, Catboost for inside"
   ]
  },
  {
   "cell_type": "code",
   "execution_count": 313,
   "metadata": {},
   "outputs": [
    {
     "data": {
      "text/html": [
       "<div>\n",
       "<style scoped>\n",
       "    .dataframe tbody tr th:only-of-type {\n",
       "        vertical-align: middle;\n",
       "    }\n",
       "\n",
       "    .dataframe tbody tr th {\n",
       "        vertical-align: top;\n",
       "    }\n",
       "\n",
       "    .dataframe thead th {\n",
       "        text-align: right;\n",
       "    }\n",
       "</style>\n",
       "<table border=\"1\" class=\"dataframe\">\n",
       "  <thead>\n",
       "    <tr style=\"text-align: right;\">\n",
       "      <th></th>\n",
       "      <th>proba</th>\n",
       "      <th>label</th>\n",
       "    </tr>\n",
       "  </thead>\n",
       "  <tbody>\n",
       "    <tr>\n",
       "      <th>2</th>\n",
       "      <td>0.095687</td>\n",
       "      <td>0</td>\n",
       "    </tr>\n",
       "    <tr>\n",
       "      <th>6</th>\n",
       "      <td>0.117788</td>\n",
       "      <td>0</td>\n",
       "    </tr>\n",
       "    <tr>\n",
       "      <th>12</th>\n",
       "      <td>0.113719</td>\n",
       "      <td>0</td>\n",
       "    </tr>\n",
       "    <tr>\n",
       "      <th>14</th>\n",
       "      <td>0.089488</td>\n",
       "      <td>0</td>\n",
       "    </tr>\n",
       "    <tr>\n",
       "      <th>17</th>\n",
       "      <td>0.173135</td>\n",
       "      <td>0</td>\n",
       "    </tr>\n",
       "    <tr>\n",
       "      <th>...</th>\n",
       "      <td>...</td>\n",
       "      <td>...</td>\n",
       "    </tr>\n",
       "    <tr>\n",
       "      <th>96393</th>\n",
       "      <td>0.089824</td>\n",
       "      <td>0</td>\n",
       "    </tr>\n",
       "    <tr>\n",
       "      <th>96394</th>\n",
       "      <td>0.096251</td>\n",
       "      <td>1</td>\n",
       "    </tr>\n",
       "    <tr>\n",
       "      <th>96395</th>\n",
       "      <td>0.128755</td>\n",
       "      <td>0</td>\n",
       "    </tr>\n",
       "    <tr>\n",
       "      <th>96396</th>\n",
       "      <td>0.117788</td>\n",
       "      <td>0</td>\n",
       "    </tr>\n",
       "    <tr>\n",
       "      <th>96397</th>\n",
       "      <td>0.114734</td>\n",
       "      <td>0</td>\n",
       "    </tr>\n",
       "  </tbody>\n",
       "</table>\n",
       "<p>44342 rows × 2 columns</p>\n",
       "</div>"
      ],
      "text/plain": [
       "          proba  label\n",
       "2      0.095687      0\n",
       "6      0.117788      0\n",
       "12     0.113719      0\n",
       "14     0.089488      0\n",
       "17     0.173135      0\n",
       "...         ...    ...\n",
       "96393  0.089824      0\n",
       "96394  0.096251      1\n",
       "96395  0.128755      0\n",
       "96396  0.117788      0\n",
       "96397  0.114734      0\n",
       "\n",
       "[44342 rows x 2 columns]"
      ]
     },
     "execution_count": 313,
     "metadata": {},
     "output_type": "execute_result"
    }
   ],
   "source": [
    "inside_interval_cat= inside_interval.copy()\n",
    "inside_interval_cat['proba']= proba_cat_inside\n",
    "\n",
    "inside_interval_cat"
   ]
  },
  {
   "cell_type": "code",
   "execution_count": 328,
   "metadata": {},
   "outputs": [
    {
     "data": {
      "text/html": [
       "<div>\n",
       "<style scoped>\n",
       "    .dataframe tbody tr th:only-of-type {\n",
       "        vertical-align: middle;\n",
       "    }\n",
       "\n",
       "    .dataframe tbody tr th {\n",
       "        vertical-align: top;\n",
       "    }\n",
       "\n",
       "    .dataframe thead th {\n",
       "        text-align: right;\n",
       "    }\n",
       "</style>\n",
       "<table border=\"1\" class=\"dataframe\">\n",
       "  <thead>\n",
       "    <tr style=\"text-align: right;\">\n",
       "      <th></th>\n",
       "      <th>proba</th>\n",
       "      <th>label</th>\n",
       "    </tr>\n",
       "  </thead>\n",
       "  <tbody>\n",
       "    <tr>\n",
       "      <th>0</th>\n",
       "      <td>0.211812</td>\n",
       "      <td>0</td>\n",
       "    </tr>\n",
       "    <tr>\n",
       "      <th>1</th>\n",
       "      <td>0.269010</td>\n",
       "      <td>0</td>\n",
       "    </tr>\n",
       "    <tr>\n",
       "      <th>2</th>\n",
       "      <td>0.095687</td>\n",
       "      <td>0</td>\n",
       "    </tr>\n",
       "    <tr>\n",
       "      <th>3</th>\n",
       "      <td>0.037739</td>\n",
       "      <td>0</td>\n",
       "    </tr>\n",
       "    <tr>\n",
       "      <th>4</th>\n",
       "      <td>0.049673</td>\n",
       "      <td>0</td>\n",
       "    </tr>\n",
       "  </tbody>\n",
       "</table>\n",
       "</div>"
      ],
      "text/plain": [
       "      proba  label\n",
       "0  0.211812      0\n",
       "1  0.269010      0\n",
       "2  0.095687      0\n",
       "3  0.037739      0\n",
       "4  0.049673      0"
      ]
     },
     "execution_count": 328,
     "metadata": {},
     "output_type": "execute_result"
    }
   ],
   "source": [
    "new_preds_gbm_cat= pd.concat([inside_interval_cat, outside_interval]).sort_index()\n",
    "\n",
    "new_preds_gbm_cat.head()"
   ]
  },
  {
   "cell_type": "code",
   "execution_count": 329,
   "metadata": {},
   "outputs": [
    {
     "name": "stdout",
     "output_type": "stream",
     "text": [
      "AUC score GBM_CAT: 0.7369\n"
     ]
    }
   ],
   "source": [
    "auc_train_gbm_cat = round(roc_auc_score(new_preds_gbm_cat['label'], new_preds_gbm_cat['proba']), 4)\n",
    "\n",
    "print('AUC score GBM_CAT:', auc_train_gbm_cat)"
   ]
  },
  {
   "cell_type": "markdown",
   "metadata": {},
   "source": [
    "### Same on Test Set ####"
   ]
  },
  {
   "cell_type": "code",
   "execution_count": 333,
   "metadata": {},
   "outputs": [
    {
     "data": {
      "text/plain": [
       "(41312,)"
      ]
     },
     "execution_count": 333,
     "metadata": {},
     "output_type": "execute_result"
    }
   ],
   "source": [
    "pred_gbm_test.shape"
   ]
  },
  {
   "cell_type": "code",
   "execution_count": 332,
   "metadata": {},
   "outputs": [
    {
     "data": {
      "text/plain": [
       "(22533,)"
      ]
     },
     "execution_count": 332,
     "metadata": {},
     "output_type": "execute_result"
    }
   ],
   "source": [
    "outside_gbm_test=  pred_gbm_test[(pred_gbm_test< lb) | (pred_gbm_test > ub)]\n",
    "outside_gbm_test.shape"
   ]
  },
  {
   "cell_type": "code",
   "execution_count": 337,
   "metadata": {},
   "outputs": [
    {
     "data": {
      "text/plain": [
       "(18779,)"
      ]
     },
     "execution_count": 337,
     "metadata": {},
     "output_type": "execute_result"
    }
   ],
   "source": [
    "pred_cat_test_inside= pred_cat_test.drop(outside_gbm_test.index)\n",
    "pred_cat_test_inside.shape"
   ]
  },
  {
   "cell_type": "code",
   "execution_count": 340,
   "metadata": {},
   "outputs": [
    {
     "data": {
      "text/plain": [
       "0    0.101340\n",
       "1    0.041612\n",
       "2    0.145243\n",
       "3    0.073863\n",
       "4    0.393540\n",
       "Name: 0, dtype: float64"
      ]
     },
     "execution_count": 340,
     "metadata": {},
     "output_type": "execute_result"
    }
   ],
   "source": [
    "#### Final Predictions #####\n",
    "\n",
    "new_preds_gbm_cat_test= pd.concat([outside_gbm_test, pred_cat_test_inside]).sort_index()\n",
    "new_preds_gbm_cat_test.head()"
   ]
  },
  {
   "cell_type": "code",
   "execution_count": 343,
   "metadata": {},
   "outputs": [
    {
     "name": "stdout",
     "output_type": "stream",
     "text": [
      "AUC score GBM_CAT: 0.724\n"
     ]
    }
   ],
   "source": [
    "auc_test_gbm_cat = round(roc_auc_score(ytest, new_preds_gbm_cat_test), 4)\n",
    "\n",
    "print('AUC score GBM_CAT:', auc_test_gbm_cat)"
   ]
  },
  {
   "cell_type": "markdown",
   "metadata": {},
   "source": [
    "### New Ideas"
   ]
  },
  {
   "cell_type": "code",
   "execution_count": null,
   "metadata": {},
   "outputs": [],
   "source": [
    "# https://github.com/modAL-python/modAL\n",
    "# https://colab.research.google.com/github/lmassaron/kaggledays-2019-gbdt/blob/master/Kaggle%20Days%20Paris%20-%20%20GBDT%20workshop.ipynb#scrollTo=XlPOO_mc4HYO"
   ]
  }
 ],
 "metadata": {
  "colab": {
   "collapsed_sections": [],
   "name": "Raw_Data_No_Val_Insurance 4.1 Random Forest 03-02-20.ipynb",
   "provenance": []
  },
  "kernelspec": {
   "display_name": "Python 3",
   "language": "python",
   "name": "python3"
  },
  "language_info": {
   "codemirror_mode": {
    "name": "ipython",
    "version": 3
   },
   "file_extension": ".py",
   "mimetype": "text/x-python",
   "name": "python",
   "nbconvert_exporter": "python",
   "pygments_lexer": "ipython3",
   "version": "3.7.6"
  },
  "latex_envs": {
   "LaTeX_envs_menu_present": true,
   "autoclose": true,
   "autocomplete": true,
   "bibliofile": "biblio.bib",
   "cite_by": "apalike",
   "current_citInitial": 1,
   "eqLabelWithNumbers": true,
   "eqNumInitial": 1,
   "hotkeys": {
    "equation": "Ctrl-E",
    "itemize": "Ctrl-I"
   },
   "labels_anchors": false,
   "latex_user_defs": false,
   "report_style_numbering": false,
   "user_envs_cfg": false
  }
 },
 "nbformat": 4,
 "nbformat_minor": 1
}
